{
  "nbformat": 4,
  "nbformat_minor": 0,
  "metadata": {
    "kernelspec": {
      "display_name": "Python 3",
      "language": "python",
      "name": "python3"
    },
    "language_info": {
      "codemirror_mode": {
        "name": "ipython",
        "version": 3
      },
      "file_extension": ".py",
      "mimetype": "text/x-python",
      "name": "python",
      "nbconvert_exporter": "python",
      "pygments_lexer": "ipython3",
      "version": "3.7.1"
    },
    "colab": {
      "name": "EDA Project on IMDB Dataset.ipynb",
      "provenance": [],
      "collapsed_sections": [],
      "include_colab_link": true
    }
  },
  "cells": [
    {
      "cell_type": "markdown",
      "metadata": {
        "id": "view-in-github",
        "colab_type": "text"
      },
      "source": [
        "<a href=\"https://colab.research.google.com/github/dev-PrabhatShukla/EDA-On-IMDB-DataSet/blob/main/EDA_Project_on_IMDB_Dataset.ipynb\" target=\"_parent\"><img src=\"https://colab.research.google.com/assets/colab-badge.svg\" alt=\"Open In Colab\"/></a>"
      ]
    },
    {
      "cell_type": "markdown",
      "metadata": {
        "id": "3_Fv7J8jTBlu"
      },
      "source": [
        "## You have been hired by a rookie movie producer to help him decide what type of movies to produce and which actors to cast. You have to back your recommendations based on thorough analysis of the data he shared with you which has the list of 3000 movies and the corresponding details.\n",
        "\n",
        "## As a data scientist, you have to first explore the data and check its sanity.\n",
        "\n",
        "## Further, you have to answer the following questions:\n",
        "1. ### <b> Which movie made the highest profit? Who were its producer and director? Identify the actors in that film.</b>\n",
        "2. ### <b>This data has information about movies made in different languages. Which language has the highest average ROI (return on investment)? </b>\n",
        "3. ### <b> Find out the unique genres of movies in this dataset.</b>\n",
        "4. ### <b> Make a table of all the producers and directors of each movie. Find the top 3 producers who have produced movies with the highest average RoI? </b>\n",
        "5. ### <b> Which actor has acted in the most number of movies? Deep dive into the movies, genres and profits corresponding to this actor. </b>\n",
        "6. ### <b>Top 3 directors prefer which actors the most? </b>\n",
        "\n"
      ]
    },
    {
      "cell_type": "markdown",
      "metadata": {
        "id": "Fx8CVjtZW_BF"
      },
      "source": [
        "# Data Exploration"
      ]
    },
    {
      "cell_type": "code",
      "metadata": {
        "id": "vq7iMfybnKNP"
      },
      "source": [
        "#Import package\n",
        "import pandas as pd\n",
        "import numpy as np"
      ],
      "execution_count": 1,
      "outputs": []
    },
    {
      "cell_type": "code",
      "metadata": {
        "colab": {
          "base_uri": "https://localhost:8080/"
        },
        "id": "EviBUy8PejYh",
        "outputId": "128be38f-163a-4517-ce4d-711636c81527"
      },
      "source": [
        "from google.colab import drive\n",
        "drive.mount('/content/drive')"
      ],
      "execution_count": 2,
      "outputs": [
        {
          "output_type": "stream",
          "name": "stdout",
          "text": [
            "Mounted at /content/drive\n"
          ]
        }
      ]
    },
    {
      "cell_type": "code",
      "metadata": {
        "id": "QnzrRSTdersz"
      },
      "source": [
        "working_dir_path = '/content/drive/MyDrive/Colab Notebooks/AlmaBetter/Module 1 : Python for Data Science/Week 3/Projects/DataSet/'\n",
        "imdb_df = pd.read_csv(working_dir_path + 'imdb_data.csv')"
      ],
      "execution_count": 3,
      "outputs": []
    },
    {
      "cell_type": "code",
      "metadata": {
        "colab": {
          "base_uri": "https://localhost:8080/",
          "height": 643
        },
        "id": "aDx2oPsvfu4c",
        "outputId": "a52a5e84-fc75-4ab8-8a7c-147d50b29420"
      },
      "source": [
        "imdb_df.head()"
      ],
      "execution_count": 4,
      "outputs": [
        {
          "output_type": "execute_result",
          "data": {
            "text/html": [
              "<div>\n",
              "<style scoped>\n",
              "    .dataframe tbody tr th:only-of-type {\n",
              "        vertical-align: middle;\n",
              "    }\n",
              "\n",
              "    .dataframe tbody tr th {\n",
              "        vertical-align: top;\n",
              "    }\n",
              "\n",
              "    .dataframe thead th {\n",
              "        text-align: right;\n",
              "    }\n",
              "</style>\n",
              "<table border=\"1\" class=\"dataframe\">\n",
              "  <thead>\n",
              "    <tr style=\"text-align: right;\">\n",
              "      <th></th>\n",
              "      <th>id</th>\n",
              "      <th>belongs_to_collection</th>\n",
              "      <th>budget</th>\n",
              "      <th>genres</th>\n",
              "      <th>homepage</th>\n",
              "      <th>imdb_id</th>\n",
              "      <th>original_language</th>\n",
              "      <th>original_title</th>\n",
              "      <th>overview</th>\n",
              "      <th>popularity</th>\n",
              "      <th>poster_path</th>\n",
              "      <th>production_companies</th>\n",
              "      <th>production_countries</th>\n",
              "      <th>release_date</th>\n",
              "      <th>runtime</th>\n",
              "      <th>spoken_languages</th>\n",
              "      <th>status</th>\n",
              "      <th>tagline</th>\n",
              "      <th>title</th>\n",
              "      <th>Keywords</th>\n",
              "      <th>cast</th>\n",
              "      <th>crew</th>\n",
              "      <th>revenue</th>\n",
              "    </tr>\n",
              "  </thead>\n",
              "  <tbody>\n",
              "    <tr>\n",
              "      <th>0</th>\n",
              "      <td>1</td>\n",
              "      <td>[{'id': 313576, 'name': 'Hot Tub Time Machine ...</td>\n",
              "      <td>14000000</td>\n",
              "      <td>[{'id': 35, 'name': 'Comedy'}]</td>\n",
              "      <td>NaN</td>\n",
              "      <td>tt2637294</td>\n",
              "      <td>en</td>\n",
              "      <td>Hot Tub Time Machine 2</td>\n",
              "      <td>When Lou, who has become the \"father of the In...</td>\n",
              "      <td>6.575393</td>\n",
              "      <td>/tQtWuwvMf0hCc2QR2tkolwl7c3c.jpg</td>\n",
              "      <td>[{'name': 'Paramount Pictures', 'id': 4}, {'na...</td>\n",
              "      <td>[{'iso_3166_1': 'US', 'name': 'United States o...</td>\n",
              "      <td>2/20/15</td>\n",
              "      <td>93.0</td>\n",
              "      <td>[{'iso_639_1': 'en', 'name': 'English'}]</td>\n",
              "      <td>Released</td>\n",
              "      <td>The Laws of Space and Time are About to be Vio...</td>\n",
              "      <td>Hot Tub Time Machine 2</td>\n",
              "      <td>[{'id': 4379, 'name': 'time travel'}, {'id': 9...</td>\n",
              "      <td>[{'cast_id': 4, 'character': 'Lou', 'credit_id...</td>\n",
              "      <td>[{'credit_id': '59ac067c92514107af02c8c8', 'de...</td>\n",
              "      <td>12314651</td>\n",
              "    </tr>\n",
              "    <tr>\n",
              "      <th>1</th>\n",
              "      <td>2</td>\n",
              "      <td>[{'id': 107674, 'name': 'The Princess Diaries ...</td>\n",
              "      <td>40000000</td>\n",
              "      <td>[{'id': 35, 'name': 'Comedy'}, {'id': 18, 'nam...</td>\n",
              "      <td>NaN</td>\n",
              "      <td>tt0368933</td>\n",
              "      <td>en</td>\n",
              "      <td>The Princess Diaries 2: Royal Engagement</td>\n",
              "      <td>Mia Thermopolis is now a college graduate and ...</td>\n",
              "      <td>8.248895</td>\n",
              "      <td>/w9Z7A0GHEhIp7etpj0vyKOeU1Wx.jpg</td>\n",
              "      <td>[{'name': 'Walt Disney Pictures', 'id': 2}]</td>\n",
              "      <td>[{'iso_3166_1': 'US', 'name': 'United States o...</td>\n",
              "      <td>8/6/04</td>\n",
              "      <td>113.0</td>\n",
              "      <td>[{'iso_639_1': 'en', 'name': 'English'}]</td>\n",
              "      <td>Released</td>\n",
              "      <td>It can take a lifetime to find true love; she'...</td>\n",
              "      <td>The Princess Diaries 2: Royal Engagement</td>\n",
              "      <td>[{'id': 2505, 'name': 'coronation'}, {'id': 42...</td>\n",
              "      <td>[{'cast_id': 1, 'character': 'Mia Thermopolis'...</td>\n",
              "      <td>[{'credit_id': '52fe43fe9251416c7502563d', 'de...</td>\n",
              "      <td>95149435</td>\n",
              "    </tr>\n",
              "    <tr>\n",
              "      <th>2</th>\n",
              "      <td>3</td>\n",
              "      <td>NaN</td>\n",
              "      <td>3300000</td>\n",
              "      <td>[{'id': 18, 'name': 'Drama'}]</td>\n",
              "      <td>http://sonyclassics.com/whiplash/</td>\n",
              "      <td>tt2582802</td>\n",
              "      <td>en</td>\n",
              "      <td>Whiplash</td>\n",
              "      <td>Under the direction of a ruthless instructor, ...</td>\n",
              "      <td>64.299990</td>\n",
              "      <td>/lIv1QinFqz4dlp5U4lQ6HaiskOZ.jpg</td>\n",
              "      <td>[{'name': 'Bold Films', 'id': 2266}, {'name': ...</td>\n",
              "      <td>[{'iso_3166_1': 'US', 'name': 'United States o...</td>\n",
              "      <td>10/10/14</td>\n",
              "      <td>105.0</td>\n",
              "      <td>[{'iso_639_1': 'en', 'name': 'English'}]</td>\n",
              "      <td>Released</td>\n",
              "      <td>The road to greatness can take you to the edge.</td>\n",
              "      <td>Whiplash</td>\n",
              "      <td>[{'id': 1416, 'name': 'jazz'}, {'id': 1523, 'n...</td>\n",
              "      <td>[{'cast_id': 5, 'character': 'Andrew Neimann',...</td>\n",
              "      <td>[{'credit_id': '54d5356ec3a3683ba0000039', 'de...</td>\n",
              "      <td>13092000</td>\n",
              "    </tr>\n",
              "    <tr>\n",
              "      <th>3</th>\n",
              "      <td>4</td>\n",
              "      <td>NaN</td>\n",
              "      <td>1200000</td>\n",
              "      <td>[{'id': 53, 'name': 'Thriller'}, {'id': 18, 'n...</td>\n",
              "      <td>http://kahaanithefilm.com/</td>\n",
              "      <td>tt1821480</td>\n",
              "      <td>hi</td>\n",
              "      <td>Kahaani</td>\n",
              "      <td>Vidya Bagchi (Vidya Balan) arrives in Kolkata ...</td>\n",
              "      <td>3.174936</td>\n",
              "      <td>/aTXRaPrWSinhcmCrcfJK17urp3F.jpg</td>\n",
              "      <td>NaN</td>\n",
              "      <td>[{'iso_3166_1': 'IN', 'name': 'India'}]</td>\n",
              "      <td>3/9/12</td>\n",
              "      <td>122.0</td>\n",
              "      <td>[{'iso_639_1': 'en', 'name': 'English'}, {'iso...</td>\n",
              "      <td>Released</td>\n",
              "      <td>NaN</td>\n",
              "      <td>Kahaani</td>\n",
              "      <td>[{'id': 10092, 'name': 'mystery'}, {'id': 1054...</td>\n",
              "      <td>[{'cast_id': 1, 'character': 'Vidya Bagchi', '...</td>\n",
              "      <td>[{'credit_id': '52fe48779251416c9108d6eb', 'de...</td>\n",
              "      <td>16000000</td>\n",
              "    </tr>\n",
              "    <tr>\n",
              "      <th>4</th>\n",
              "      <td>5</td>\n",
              "      <td>NaN</td>\n",
              "      <td>0</td>\n",
              "      <td>[{'id': 28, 'name': 'Action'}, {'id': 53, 'nam...</td>\n",
              "      <td>NaN</td>\n",
              "      <td>tt1380152</td>\n",
              "      <td>ko</td>\n",
              "      <td>마린보이</td>\n",
              "      <td>Marine Boy is the story of a former national s...</td>\n",
              "      <td>1.148070</td>\n",
              "      <td>/m22s7zvkVFDU9ir56PiiqIEWFdT.jpg</td>\n",
              "      <td>NaN</td>\n",
              "      <td>[{'iso_3166_1': 'KR', 'name': 'South Korea'}]</td>\n",
              "      <td>2/5/09</td>\n",
              "      <td>118.0</td>\n",
              "      <td>[{'iso_639_1': 'ko', 'name': '한국어/조선말'}]</td>\n",
              "      <td>Released</td>\n",
              "      <td>NaN</td>\n",
              "      <td>Marine Boy</td>\n",
              "      <td>NaN</td>\n",
              "      <td>[{'cast_id': 3, 'character': 'Chun-soo', 'cred...</td>\n",
              "      <td>[{'credit_id': '52fe464b9251416c75073b43', 'de...</td>\n",
              "      <td>3923970</td>\n",
              "    </tr>\n",
              "  </tbody>\n",
              "</table>\n",
              "</div>"
            ],
            "text/plain": [
              "   id  ...   revenue\n",
              "0   1  ...  12314651\n",
              "1   2  ...  95149435\n",
              "2   3  ...  13092000\n",
              "3   4  ...  16000000\n",
              "4   5  ...   3923970\n",
              "\n",
              "[5 rows x 23 columns]"
            ]
          },
          "metadata": {},
          "execution_count": 4
        }
      ]
    },
    {
      "cell_type": "code",
      "metadata": {
        "colab": {
          "base_uri": "https://localhost:8080/"
        },
        "id": "zQ7E1BfFgv9p",
        "outputId": "da07fb32-8062-4afc-ad4a-76ce4fd8ce9f"
      },
      "source": [
        "# Let's check the data info\n",
        "imdb_df.info()"
      ],
      "execution_count": 5,
      "outputs": [
        {
          "output_type": "stream",
          "name": "stdout",
          "text": [
            "<class 'pandas.core.frame.DataFrame'>\n",
            "RangeIndex: 3000 entries, 0 to 2999\n",
            "Data columns (total 23 columns):\n",
            " #   Column                 Non-Null Count  Dtype  \n",
            "---  ------                 --------------  -----  \n",
            " 0   id                     3000 non-null   int64  \n",
            " 1   belongs_to_collection  604 non-null    object \n",
            " 2   budget                 3000 non-null   int64  \n",
            " 3   genres                 2993 non-null   object \n",
            " 4   homepage               946 non-null    object \n",
            " 5   imdb_id                3000 non-null   object \n",
            " 6   original_language      3000 non-null   object \n",
            " 7   original_title         3000 non-null   object \n",
            " 8   overview               2992 non-null   object \n",
            " 9   popularity             3000 non-null   float64\n",
            " 10  poster_path            2999 non-null   object \n",
            " 11  production_companies   2844 non-null   object \n",
            " 12  production_countries   2945 non-null   object \n",
            " 13  release_date           3000 non-null   object \n",
            " 14  runtime                2998 non-null   float64\n",
            " 15  spoken_languages       2980 non-null   object \n",
            " 16  status                 3000 non-null   object \n",
            " 17  tagline                2403 non-null   object \n",
            " 18  title                  3000 non-null   object \n",
            " 19  Keywords               2724 non-null   object \n",
            " 20  cast                   2987 non-null   object \n",
            " 21  crew                   2984 non-null   object \n",
            " 22  revenue                3000 non-null   int64  \n",
            "dtypes: float64(2), int64(3), object(18)\n",
            "memory usage: 539.2+ KB\n"
          ]
        }
      ]
    },
    {
      "cell_type": "code",
      "metadata": {
        "colab": {
          "base_uri": "https://localhost:8080/",
          "height": 123
        },
        "id": "i88UuwnWoHRH",
        "outputId": "bbc6e9cd-323d-4242-8a67-b4e132219f48"
      },
      "source": [
        "imdb_df.loc[0, 'crew']"
      ],
      "execution_count": 6,
      "outputs": [
        {
          "output_type": "execute_result",
          "data": {
            "application/vnd.google.colaboratory.intrinsic+json": {
              "type": "string"
            },
            "text/plain": [
              "'[{\\'credit_id\\': \\'59ac067c92514107af02c8c8\\', \\'department\\': \\'Directing\\', \\'gender\\': 0, \\'id\\': 1449071, \\'job\\': \\'First Assistant Director\\', \\'name\\': \\'Kelly Cantley\\', \\'profile_path\\': None}, {\\'credit_id\\': \\'52fe4ee7c3a36847f82afad7\\', \\'department\\': \\'Directing\\', \\'gender\\': 2, \\'id\\': 3227, \\'job\\': \\'Director\\', \\'name\\': \\'Steve Pink\\', \\'profile_path\\': \\'/myHOgo8mQSCiCAZNGMRdHVr03jr.jpg\\'}, {\\'credit_id\\': \\'5524ed25c3a3687ded000d88\\', \\'department\\': \\'Writing\\', \\'gender\\': 2, \\'id\\': 347335, \\'job\\': \\'Writer\\', \\'name\\': \\'Josh Heald\\', \\'profile_path\\': \\'/pwXJIenrDMrG7t3zNfLvr8w1RGU.jpg\\'}, {\\'credit_id\\': \\'5524ed2d925141720c001128\\', \\'department\\': \\'Writing\\', \\'gender\\': 2, \\'id\\': 347335, \\'job\\': \\'Characters\\', \\'name\\': \\'Josh Heald\\', \\'profile_path\\': \\'/pwXJIenrDMrG7t3zNfLvr8w1RGU.jpg\\'}, {\\'credit_id\\': \\'5524ed3d92514166c1004a5d\\', \\'department\\': \\'Production\\', \\'gender\\': 2, \\'id\\': 57822, \\'job\\': \\'Producer\\', \\'name\\': \\'Andrew Panay\\', \\'profile_path\\': None}, {\\'credit_id\\': \\'5524ed4bc3a3687df3000dd2\\', \\'department\\': \\'Production\\', \\'gender\\': 0, \\'id\\': 1451395, \\'job\\': \\'Associate Producer\\', \\'name\\': \\'Adam Blum\\', \\'profile_path\\': None}, {\\'credit_id\\': \\'5524ed5a925141720c00112c\\', \\'department\\': \\'Production\\', \\'gender\\': 2, \\'id\\': 52997, \\'job\\': \\'Executive Producer\\', \\'name\\': \\'Rob Corddry\\', \\'profile_path\\': \\'/k2zJL0V1nEZuFT08xUdOd3ucfXz.jpg\\'}, {\\'credit_id\\': \\'5524ed85c3a3687e0e000f56\\', \\'department\\': \\'Production\\', \\'gender\\': 0, \\'id\\': 62807, \\'job\\': \\'Executive Producer\\', \\'name\\': \\'Ben Ormand\\', \\'profile_path\\': None}, {\\'credit_id\\': \\'5524ed9fc3a3687e0e000f59\\', \\'department\\': \\'Sound\\', \\'gender\\': 2, \\'id\\': 23486, \\'job\\': \\'Original Music Composer\\', \\'name\\': \\'Christophe Beck\\', \\'profile_path\\': \\'/2fnJUmCk6IEpVIptpYaUk31epHx.jpg\\'}, {\\'credit_id\\': \\'5524eda6c3a3687e03000d28\\', \\'department\\': \\'Camera\\', \\'gender\\': 2, \\'id\\': 6117, \\'job\\': \\'Director of Photography\\', \\'name\\': \\'Declan Quinn\\', \\'profile_path\\': None}, {\\'credit_id\\': \\'5524edb4925141720c00113d\\', \\'department\\': \\'Editing\\', \\'gender\\': 0, \\'id\\': 1451396, \\'job\\': \\'Editor\\', \\'name\\': \\'Jamie Gross\\', \\'profile_path\\': None}, {\\'credit_id\\': \\'5524edc1925141727600102e\\', \\'department\\': \\'Production\\', \\'gender\\': 0, \\'id\\': 22219, \\'job\\': \\'Casting\\', \\'name\\': \\'Susie Farris\\', \\'profile_path\\': None}, {\\'credit_id\\': \\'5524edd192514171cb008257\\', \\'department\\': \\'Art\\', \\'gender\\': 0, \\'id\\': 1002643, \\'job\\': \\'Production Design\\', \\'name\\': \\'Ryan Berg\\', \\'profile_path\\': None}, {\\'credit_id\\': \\'555ad9be9251411e5b00d485\\', \\'department\\': \\'Production\\', \\'gender\\': 2, \\'id\\': 57431, \\'job\\': \\'Executive Producer\\', \\'name\\': \\'Matt Moore\\', \\'profile_path\\': None}, {\\'credit_id\\': \\'5677e93bc3a36816890087dc\\', \\'department\\': \\'Directing\\', \\'gender\\': 0, \\'id\\': 1551818, \\'job\\': \\'Script Supervisor\\', \\'name\\': \\'Nicole Garcea\\', \\'profile_path\\': None}, {\\'credit_id\\': \\'5677e96a92514179e10093d0\\', \\'department\\': \\'Production\\', \\'gender\\': 0, \\'id\\': 1551819, \\'job\\': \\'Production Coordinator\\', \\'name\\': \\'Jason Salzman\\', \\'profile_path\\': None}, {\\'credit_id\\': \\'5677e98492514179d2008cd9\\', \\'department\\': \\'Costume & Make-Up\\', \\'gender\\': 0, \\'id\\': 1422996, \\'job\\': \\'Costume Design\\', \\'name\\': \\'Carol Cutshall\\', \\'profile_path\\': None}, {\\'credit_id\\': \\'5677e9d5c3a368168e009414\\', \\'department\\': \\'Art\\', \\'gender\\': 2, \\'id\\': 500199, \\'job\\': \\'Set Decoration\\', \\'name\\': \\'Tim Cohn\\', \\'profile_path\\': None}, {\\'credit_id\\': \\'5677f89d9251417845001a61\\', \\'department\\': \\'Costume & Make-Up\\', \\'gender\\': 0, \\'id\\': 1527917, \\'job\\': \\'Hair Department Head\\', \\'name\\': \\'Voni Hinkle\\', \\'profile_path\\': None}, {\\'credit_id\\': \\'5677f8b392514179dd0089fb\\', \\'department\\': \\'Costume & Make-Up\\', \\'gender\\': 0, \\'id\\': 1431554, \\'job\\': \\'Makeup Department Head\\', \\'name\\': \\'Remi Savva\\', \\'profile_path\\': None}, {\\'credit_id\\': \\'5677f8d1c3a3681689008a4b\\', \\'department\\': \\'Art\\', \\'gender\\': 0, \\'id\\': 66495, \\'job\\': \\'Art Direction\\', \\'name\\': \\'Jason Baldwin Stewart\\', \\'profile_path\\': None}, {\\'credit_id\\': \\'5677f8eec3a3681685008dd5\\', \\'department\\': \\'Production\\', \\'gender\\': 0, \\'id\\': 1412466, \\'job\\': \\'Production Supervisor\\', \\'name\\': \\'Korey Budd\\', \\'profile_path\\': None}, {\\'credit_id\\': \\'5677f90a9251417845001a7d\\', \\'department\\': \\'Sound\\', \\'gender\\': 0, \\'id\\': 1401562, \\'job\\': \\'Sound Re-Recording Mixer\\', \\'name\\': \\'Gary C. Bourgeois\\', \\'profile_path\\': None}, {\\'credit_id\\': \\'5677f91e9251417845001a84\\', \\'department\\': \\'Sound\\', \\'gender\\': 0, \\'id\\': 1396794, \\'job\\': \\'Sound Re-Recording Mixer\\', \\'name\\': \\'Gabriel J. Serrano\\', \\'profile_path\\': None}, {\\'credit_id\\': \\'5677f938c3a3681680008dd4\\', \\'department\\': \\'Editing\\', \\'gender\\': 0, \\'id\\': 13168, \\'job\\': \\'Dialogue Editor\\', \\'name\\': \\'Victoria Rose Sampson\\', \\'profile_path\\': None}, {\\'credit_id\\': \\'5677f94e92514179dd008a1f\\', \\'department\\': \\'Sound\\', \\'gender\\': 0, \\'id\\': 1551839, \\'job\\': \\'Production Sound Mixer\\', \\'name\\': \\'Michael B. Koff\\', \\'profile_path\\': None}, {\\'credit_id\\': \\'5677f968c3a368168e009698\\', \\'department\\': \\'Sound\\', \\'gender\\': 0, \\'id\\': 113052, \\'job\\': \\'Sound Effects Editor\\', \\'name\\': \\'Randall Guth\\', \\'profile_path\\': None}, {\\'credit_id\\': \\'5677f98dc3a3681685008e02\\', \\'department\\': \\'Crew\\', \\'gender\\': 2, \\'id\\': 1442535, \\'job\\': \\'Stunt Coordinator\\', \\'name\\': \\'Chuck Picerni Jr.\\', \\'profile_path\\': \\'/yE5QtXUzcrnCzMRctZL8F5g842B.jpg\\'}, {\\'credit_id\\': \\'5677f9a692514179dd008a49\\', \\'department\\': \\'Camera\\', \\'gender\\': 0, \\'id\\': 1437305, \\'job\\': \\'Camera Operator\\', \\'name\\': \\'Michael Applebaum\\', \\'profile_path\\': None}, {\\'credit_id\\': \\'5677f9bd9251417845001aae\\', \\'department\\': \\'Camera\\', \\'gender\\': 0, \\'id\\': 1401765, \\'job\\': \\'Still Photographer\\', \\'name\\': \\'Steve Dietl\\', \\'profile_path\\': None}, {\\'credit_id\\': \\'5677f9e592514179e7008bf7\\', \\'department\\': \\'Lighting\\', \\'gender\\': 0, \\'id\\': 1402721, \\'job\\': \\'Rigging Gaffer\\', \\'name\\': \\'Tarik Naim Alherimi\\', \\'profile_path\\': None}, {\\'credit_id\\': \\'5677f9f4c3a368167c0090ed\\', \\'department\\': \\'Lighting\\', \\'gender\\': 0, \\'id\\': 1402719, \\'job\\': \\'Gaffer\\', \\'name\\': \\'Paul Olinde\\', \\'profile_path\\': None}, {\\'credit_id\\': \\'5677fa21c3a368168e0096ca\\', \\'department\\': \\'Sound\\', \\'gender\\': 0, \\'id\\': 1551840, \\'job\\': \\'Music Supervisor\\', \\'name\\': \\'Steve Griffen\\', \\'profile_path\\': None}, {\\'credit_id\\': \\'5677fa31c3a3681680008e04\\', \\'department\\': \\'Sound\\', \\'gender\\': 0, \\'id\\': 1551841, \\'job\\': \\'Music Editor\\', \\'name\\': \\'Matt Fausak\\', \\'profile_path\\': None}, {\\'credit_id\\': \\'5677fa4392514179dd008a76\\', \\'department\\': \\'Sound\\', \\'gender\\': 0, \\'id\\': 1551840, \\'job\\': \\'Music Editor\\', \\'name\\': \\'Steve Griffen\\', \\'profile_path\\': None}, {\\'credit_id\\': \\'5677fa609251417845001acf\\', \\'department\\': \\'Costume & Make-Up\\', \\'gender\\': 0, \\'id\\': 1403416, \\'job\\': \\'Costume Supervisor\\', \\'name\\': \\'Shonta T. McCray\\', \\'profile_path\\': None}, {\\'credit_id\\': \\'5677fa8492514179d2008fb3\\', \\'department\\': \\'Camera\\', \\'gender\\': 0, \\'id\\': 1425831, \\'job\\': \\'Steadicam Operator\\', \\'name\\': \\'Mark Karavite\\', \\'profile_path\\': None}, {\\'credit_id\\': \\'5677fab2c3a3681689008ac3\\', \\'department\\': \\'Camera\\', \\'gender\\': 0, \\'id\\': 1551842, \\'job\\': \\'First Assistant Camera\\', \\'name\\': \\'Joe Waistell\\', \\'profile_path\\': None}, {\\'credit_id\\': \\'5677faecc3a368168e0096fe\\', \\'department\\': \\'Sound\\', \\'gender\\': 0, \\'id\\': 58362, \\'job\\': \\'Supervising Sound Editor\\', \\'name\\': \\'Michael Hilkene\\', \\'profile_path\\': None}, {\\'credit_id\\': \\'59ac0368c3a3682c0a02c484\\', \\'department\\': \\'Crew\\', \\'gender\\': 0, \\'id\\': 1881584, \\'job\\': \\'Additional Writing\\', \\'name\\': \\'John Karnay\\', \\'profile_path\\': None}, {\\'credit_id\\': \\'59ac0411c3a3682bf0028966\\', \\'department\\': \\'Costume & Make-Up\\', \\'gender\\': 0, \\'id\\': 1431552, \\'job\\': \\'Hairstylist\\', \\'name\\': \\'Daina Daigle\\', \\'profile_path\\': None}, {\\'credit_id\\': \\'59ac0504925141072302b8fb\\', \\'department\\': \\'Costume & Make-Up\\', \\'gender\\': 0, \\'id\\': 1712001, \\'job\\': \\'Makeup Artist\\', \\'name\\': \\'Allison Gordin\\', \\'profile_path\\': None}, {\\'credit_id\\': \\'59ac0570c3a3682bf0028aac\\', \\'department\\': \\'Costume & Make-Up\\', \\'gender\\': 0, \\'id\\': 578725, \\'job\\': \\'Makeup Artist\\', \\'name\\': \\'Darryl Lucas\\', \\'profile_path\\': None}, {\\'credit_id\\': \\'59ac05a4925141077e02c97e\\', \\'department\\': \\'Costume & Make-Up\\', \\'gender\\': 0, \\'id\\': 1463274, \\'job\\': \\'Makeup Artist\\', \\'name\\': \\'Annabelle MacNeal\\', \\'profile_path\\': None}, {\\'credit_id\\': \\'59ac05c6925141076502d106\\', \\'department\\': \\'Costume & Make-Up\\', \\'gender\\': 0, \\'id\\': 1881586, \\'job\\': \\'Makeup Artist\\', \\'name\\': \\'Marina Savva\\', \\'profile_path\\': None}, {\\'credit_id\\': \\'59ac0615c3a3682c480296aa\\', \\'department\\': \\'Costume & Make-Up\\', \\'gender\\': 0, \\'id\\': 1406267, \\'job\\': \\'Hairstylist\\', \\'name\\': \\'Carl G. Variste\\', \\'profile_path\\': None}, {\\'credit_id\\': \\'59ac06ba925141076502d1fa\\', \\'department\\': \\'Directing\\', \\'gender\\': 0, \\'id\\': 1798593, \\'job\\': \\'First Assistant Director\\', \\'name\\': \\'Josh King\\', \\'profile_path\\': None}, {\\'credit_id\\': \\'59ac06f1c3a3682c2202aca0\\', \\'department\\': \\'Art\\', \\'gender\\': 0, \\'id\\': 1415083, \\'job\\': \\'Greensman\\', \\'name\\': \\'Scott C. Bivona\\', \\'profile_path\\': None}, {\\'credit_id\\': \\'59ac072c925141076502d260\\', \\'department\\': \\'Art\\', \\'gender\\': 0, \\'id\\': 1881587, \\'job\\': \\'Title Designer\\', \\'name\\': \\'Eunha Choi\\', \\'profile_path\\': None}, {\\'credit_id\\': \\'59ac077c925141077e02cb62\\', \\'department\\': \\'Art\\', \\'gender\\': 0, \\'id\\': 1585302, \\'job\\': \\'Construction Coordinator\\', \\'name\\': \\'Daniel Coe\\', \\'profile_path\\': None}, {\\'credit_id\\': \\'59ac07e0925141078a02d842\\', \\'department\\': \\'Art\\', \\'gender\\': 0, \\'id\\': 1495523, \\'job\\': \\'Set Designer\\', \\'name\\': \\'Spencer Davison\\', \\'profile_path\\': None}, {\\'credit_id\\': \\'59ac0862925141072f02cf6f\\', \\'department\\': \\'Art\\', \\'gender\\': 0, \\'id\\': 1881589, \\'job\\': \\'Painter\\', \\'name\\': \\'Sonia L. Garcia\\', \\'profile_path\\': None}, {\\'credit_id\\': \\'59ac08e0c3a3682bf0028e51\\', \\'department\\': \\'Art\\', \\'gender\\': 0, \\'id\\': 1424896, \\'job\\': \\'Art Department Coordinator\\', \\'name\\': \\'Caleb Guillotte\\', \\'profile_path\\': None}, {\\'credit_id\\': \\'59ac0920c3a3682c2202af36\\', \\'department\\': \\'Art\\', \\'gender\\': 0, \\'id\\': 1393375, \\'job\\': \\'Leadman\\', \\'name\\': \"Pat A. O\\'Connor\", \\'profile_path\\': None}, {\\'credit_id\\': \\'59ac095592514107af02cc39\\', \\'department\\': \\'Art\\', \\'gender\\': 0, \\'id\\': 1881592, \\'job\\': \\'Set Designer\\', \\'name\\': \\'Brendan Turrill\\', \\'profile_path\\': None}, {\\'credit_id\\': \\'59ac0989925141072302bdfa\\', \\'department\\': \\'Art\\', \\'gender\\': 2, \\'id\\': 76497, \\'job\\': \\'Property Master\\', \\'name\\': \\'Brook Yeaton\\', \\'profile_path\\': None}, {\\'credit_id\\': \\'59ac0a2cc3a3682c9c02add1\\', \\'department\\': \\'Sound\\', \\'gender\\': 0, \\'id\\': 1881596, \\'job\\': \\'Boom Operator\\', \\'name\\': \\'Matthew Armstrong\\', \\'profile_path\\': None}, {\\'credit_id\\': \\'59ac0aa8925141072f02d282\\', \\'department\\': \\'Visual Effects\\', \\'gender\\': 2, \\'id\\': 1558086, \\'job\\': \\'Special Effects Supervisor\\', \\'name\\': \\'Matt Kutcher\\', \\'profile_path\\': None}, {\\'credit_id\\': \\'59ac0b2ac3a3682c2202b192\\', \\'department\\': \\'Crew\\', \\'gender\\': 2, \\'id\\': 1558087, \\'job\\': \\'Special Effects Coordinator\\', \\'name\\': \\'Eric Roberts\\', \\'profile_path\\': None}, {\\'credit_id\\': \\'59ac0b7ac3a3682c2202b1fb\\', \\'department\\': \\'Visual Effects\\', \\'gender\\': 0, \\'id\\': 1392098, \\'job\\': \\'Visual Effects Supervisor\\', \\'name\\': \\'Rocco Passionino\\', \\'profile_path\\': None}, {\\'credit_id\\': \\'59ac0bbe925141077e02d0c4\\', \\'department\\': \\'Visual Effects\\', \\'gender\\': 0, \\'id\\': 1558716, \\'job\\': \\'Visual Effects Coordinator\\', \\'name\\': \\'Joseph Payo\\', \\'profile_path\\': None}, {\\'credit_id\\': \\'59ac0bf2c3a3682cc802cefa\\', \\'department\\': \\'Visual Effects\\', \\'gender\\': 0, \\'id\\': 1408784, \\'job\\': \\'Visual Effects Producer\\', \\'name\\': \\'Chris Roff\\', \\'profile_path\\': None}, {\\'credit_id\\': \\'59ac0c51c3a3682c48029d99\\', \\'department\\': \\'Lighting\\', \\'gender\\': 0, \\'id\\': 1881600, \\'job\\': \\'Best Boy Electric\\', \\'name\\': \\'Ulyan Atamanyuk\\', \\'profile_path\\': None}, {\\'credit_id\\': \\'59ac0cbac3a3682c0a02cff6\\', \\'department\\': \\'Camera\\', \\'gender\\': 0, \\'id\\': 1881602, \\'job\\': \\'Key Grip\\', \\'name\\': \\'Chris Ekstrom\\', \\'profile_path\\': None}, {\\'credit_id\\': \\'59ac0d54925141072f02d5e6\\', \\'department\\': \\'Lighting\\', \\'gender\\': 0, \\'id\\': 1484984, \\'job\\': \\'Best Boy Electric\\', \\'name\\': \\'Brad Garris\\', \\'profile_path\\': None}, {\\'credit_id\\': \\'59ac0db0925141078a02df86\\', \\'department\\': \\'Camera\\', \\'gender\\': 0, \\'id\\': 1881603, \\'job\\': \\'Dolly Grip\\', \\'name\\': \\'Kendell Joseph\\', \\'profile_path\\': None}, {\\'credit_id\\': \\'59ac0e5a925141077e02d39f\\', \\'department\\': \\'Camera\\', \\'gender\\': 0, \\'id\\': 1549179, \\'job\\': \\'Dolly Grip\\', \\'name\\': \\'Spencer Wilcox\\', \\'profile_path\\': None}, {\\'credit_id\\': \\'59ac0e9f925141079d02bee6\\', \\'department\\': \\'Costume & Make-Up\\', \\'gender\\': 0, \\'id\\': 1552626, \\'job\\': \\'Key Costumer\\', \\'name\\': \\'Sarah P. Koeppe\\', \\'profile_path\\': None}, {\\'credit_id\\': \\'59ac0ec1c3a3682bf0029524\\', \\'department\\': \\'Costume & Make-Up\\', \\'gender\\': 0, \\'id\\': 1881605, \\'job\\': \\'Seamstress\\', \\'name\\': \\'Catherine Rodi\\', \\'profile_path\\': None}, {\\'credit_id\\': \\'59ac0eef925141070702c7ff\\', \\'department\\': \\'Costume & Make-Up\\', \\'gender\\': 0, \\'id\\': 1463801, \\'job\\': \\'Seamstress\\', \\'name\\': \\'Giselle Spence\\', \\'profile_path\\': None}, {\\'credit_id\\': \\'59ac0f5dc3a3682c4802a0f5\\', \\'department\\': \\'Production\\', \\'gender\\': 0, \\'id\\': 1400837, \\'job\\': \\'Location Manager\\', \\'name\\': \\'John A. Johnston\\', \\'profile_path\\': None}, {\\'credit_id\\': \\'59ac0ff2c3a3682c4802a196\\', \\'department\\': \\'Crew\\', \\'gender\\': 0, \\'id\\': 1844322, \\'job\\': \\'Production Controller\\', \\'name\\': \\'Gail Marks\\', \\'profile_path\\': None}]'"
            ]
          },
          "metadata": {},
          "execution_count": 6
        }
      ]
    },
    {
      "cell_type": "markdown",
      "metadata": {
        "id": "SpOg2t7bop1G"
      },
      "source": [
        "# **Above we get list of output is in string but we want it as list of dictionary for that we use eval method ***"
      ]
    },
    {
      "cell_type": "code",
      "metadata": {
        "id": "1EZqrt5vow3m"
      },
      "source": [
        "crew_list = eval(imdb_df.loc[0, 'crew'])"
      ],
      "execution_count": 7,
      "outputs": []
    },
    {
      "cell_type": "code",
      "metadata": {
        "colab": {
          "base_uri": "https://localhost:8080/"
        },
        "id": "BeZ_J3Clo7oW",
        "outputId": "c2ef48c1-2610-41f1-a4ac-d636c6c41e3d"
      },
      "source": [
        "len(crew_list)"
      ],
      "execution_count": 8,
      "outputs": [
        {
          "output_type": "execute_result",
          "data": {
            "text/plain": [
              "72"
            ]
          },
          "metadata": {},
          "execution_count": 8
        }
      ]
    },
    {
      "cell_type": "markdown",
      "metadata": {
        "id": "NNyu9icKpE-8"
      },
      "source": [
        "# **Now, do same this for the genres column here too**"
      ]
    },
    {
      "cell_type": "code",
      "metadata": {
        "colab": {
          "base_uri": "https://localhost:8080/",
          "height": 35
        },
        "id": "GRvPiYDRpTFv",
        "outputId": "e85d91a8-a8d9-4f59-dd49-abceaf5cc9c9"
      },
      "source": [
        "imdb_df.loc[0, 'genres']"
      ],
      "execution_count": 9,
      "outputs": [
        {
          "output_type": "execute_result",
          "data": {
            "application/vnd.google.colaboratory.intrinsic+json": {
              "type": "string"
            },
            "text/plain": [
              "\"[{'id': 35, 'name': 'Comedy'}]\""
            ]
          },
          "metadata": {},
          "execution_count": 9
        }
      ]
    },
    {
      "cell_type": "markdown",
      "metadata": {
        "id": "mSdTN_xspaoH"
      },
      "source": [
        "# Same issue is here too, here we also got output in string so also eval this too\n"
      ]
    },
    {
      "cell_type": "code",
      "metadata": {
        "colab": {
          "base_uri": "https://localhost:8080/"
        },
        "id": "lDe3aA6ppvb3",
        "outputId": "e1c53dd8-ebc3-44e0-847f-a19104a36e07"
      },
      "source": [
        "genres_list = eval(imdb_df.loc[0, 'genres'])\n",
        "genres_list"
      ],
      "execution_count": 10,
      "outputs": [
        {
          "output_type": "execute_result",
          "data": {
            "text/plain": [
              "[{'id': 35, 'name': 'Comedy'}]"
            ]
          },
          "metadata": {},
          "execution_count": 10
        }
      ]
    },
    {
      "cell_type": "markdown",
      "metadata": {
        "id": "45kDoNYQ01i6"
      },
      "source": [
        "## We keep all those columns which is required for the questions above asked at one place and we use that particular dataframe which contains only these columns and we will also easily apply operations on that columns too...."
      ]
    },
    {
      "cell_type": "code",
      "metadata": {
        "id": "77spbqcE1jnB"
      },
      "source": [
        "columns_to_keep = ['budget', 'genres', 'imdb_id', 'original_language', 'original_title', 'revenue', 'cast', 'crew']"
      ],
      "execution_count": 12,
      "outputs": []
    },
    {
      "cell_type": "code",
      "metadata": {
        "id": "b4-uZmmE2BXu"
      },
      "source": [
        "imdb_df = imdb_df[columns_to_keep]"
      ],
      "execution_count": 13,
      "outputs": []
    },
    {
      "cell_type": "code",
      "metadata": {
        "colab": {
          "base_uri": "https://localhost:8080/"
        },
        "id": "BifhhfVu2RI6",
        "outputId": "2998efb0-ddaf-4b3d-e957-baf71b9731b0"
      },
      "source": [
        "imdb_df.info()"
      ],
      "execution_count": 17,
      "outputs": [
        {
          "output_type": "stream",
          "name": "stdout",
          "text": [
            "<class 'pandas.core.frame.DataFrame'>\n",
            "RangeIndex: 3000 entries, 0 to 2999\n",
            "Data columns (total 8 columns):\n",
            " #   Column             Non-Null Count  Dtype \n",
            "---  ------             --------------  ----- \n",
            " 0   budget             3000 non-null   int64 \n",
            " 1   genres             2993 non-null   object\n",
            " 2   imdb_id            3000 non-null   object\n",
            " 3   original_language  3000 non-null   object\n",
            " 4   original_title     3000 non-null   object\n",
            " 5   revenue            3000 non-null   int64 \n",
            " 6   cast               2987 non-null   object\n",
            " 7   crew               2984 non-null   object\n",
            "dtypes: int64(2), object(6)\n",
            "memory usage: 187.6+ KB\n"
          ]
        }
      ]
    },
    {
      "cell_type": "markdown",
      "metadata": {
        "id": "MO0nwWnX2Xar"
      },
      "source": [
        "## Lets drop all null values of these columns "
      ]
    },
    {
      "cell_type": "code",
      "metadata": {
        "id": "BTruqgQR2f5F"
      },
      "source": [
        "imdb_non_null_df = imdb_df.dropna()"
      ],
      "execution_count": 18,
      "outputs": []
    },
    {
      "cell_type": "code",
      "metadata": {
        "colab": {
          "base_uri": "https://localhost:8080/"
        },
        "id": "BaBQ-o1P2odl",
        "outputId": "c3d1f308-0f44-4cff-cc15-d5d1c13f5cb0"
      },
      "source": [
        "imdb_non_null_df.shape"
      ],
      "execution_count": 19,
      "outputs": [
        {
          "output_type": "execute_result",
          "data": {
            "text/plain": [
              "(2978, 8)"
            ]
          },
          "metadata": {},
          "execution_count": 19
        }
      ]
    },
    {
      "cell_type": "code",
      "metadata": {
        "colab": {
          "base_uri": "https://localhost:8080/"
        },
        "id": "6fxPrL-X3BRl",
        "outputId": "a3654cf2-ceae-4751-be1a-0cd7730a9196"
      },
      "source": [
        "imdb_non_null_df.info()"
      ],
      "execution_count": 20,
      "outputs": [
        {
          "output_type": "stream",
          "name": "stdout",
          "text": [
            "<class 'pandas.core.frame.DataFrame'>\n",
            "Int64Index: 2978 entries, 0 to 2999\n",
            "Data columns (total 8 columns):\n",
            " #   Column             Non-Null Count  Dtype \n",
            "---  ------             --------------  ----- \n",
            " 0   budget             2978 non-null   int64 \n",
            " 1   genres             2978 non-null   object\n",
            " 2   imdb_id            2978 non-null   object\n",
            " 3   original_language  2978 non-null   object\n",
            " 4   original_title     2978 non-null   object\n",
            " 5   revenue            2978 non-null   int64 \n",
            " 6   cast               2978 non-null   object\n",
            " 7   crew               2978 non-null   object\n",
            "dtypes: int64(2), object(6)\n",
            "memory usage: 209.4+ KB\n"
          ]
        }
      ]
    },
    {
      "cell_type": "markdown",
      "metadata": {
        "id": "ysM89F1bsFis"
      },
      "source": [
        "## So, if we wanna covert the string values to proper list and apply this transformation main in three columns : crew, genres, cast\n"
      ]
    },
    {
      "cell_type": "markdown",
      "metadata": {
        "id": "zm3jLpFQYDTO"
      },
      "source": [
        "## Now we will see how to apply a function only on particular column that contains non-null observations like 'genres' and eval it in list"
      ]
    },
    {
      "cell_type": "code",
      "metadata": {
        "id": "Rpz4InvIsxtu"
      },
      "source": [
        "# Firstly, let's create a function which we will going to apply\n",
        "def convert_string_to_list(str):\n",
        "  return eval(str)"
      ],
      "execution_count": 21,
      "outputs": []
    },
    {
      "cell_type": "code",
      "metadata": {
        "id": "-NmKoFEaX9BP"
      },
      "source": [
        "# Now we will see how we can apply above function on 'genres' column\n",
        "imdb_df.loc[~imdb_df['genres'].isna(), 'genres'] = imdb_df.loc[~imdb_df['genres'].isna(), 'genres'].apply(convert_string_to_list)"
      ],
      "execution_count": 22,
      "outputs": []
    },
    {
      "cell_type": "code",
      "metadata": {
        "colab": {
          "base_uri": "https://localhost:8080/"
        },
        "id": "ez8_JSknX8mY",
        "outputId": "7cdd88c7-6196-4d5f-fa04-9558cbfcdf4d"
      },
      "source": [
        "# Let's check that genres change from string to list or not\n",
        "imdb_df.loc[0, 'genres']"
      ],
      "execution_count": 23,
      "outputs": [
        {
          "output_type": "execute_result",
          "data": {
            "text/plain": [
              "[{'id': 35, 'name': 'Comedy'}]"
            ]
          },
          "metadata": {},
          "execution_count": 23
        }
      ]
    },
    {
      "cell_type": "markdown",
      "metadata": {
        "id": "bzXvOziaZzfb"
      },
      "source": [
        "## Let's do the same for 'cast' and 'crew' column too."
      ]
    },
    {
      "cell_type": "code",
      "metadata": {
        "id": "RusfV9iPZ9tP"
      },
      "source": [
        "# Now we will see how we can apply above function on 'genres' column\n",
        "imdb_df.loc[~imdb_df['cast'].isna(), 'cast'] = imdb_df.loc[~imdb_df['cast'].isna(), 'cast'].apply(convert_string_to_list)"
      ],
      "execution_count": 24,
      "outputs": []
    },
    {
      "cell_type": "code",
      "metadata": {
        "colab": {
          "base_uri": "https://localhost:8080/"
        },
        "id": "Cbv1Lr2IaFcZ",
        "outputId": "47bfbf39-adc8-4302-f709-a86473d9aad0"
      },
      "source": [
        "# Let's check that cast change from string to list or not\n",
        "imdb_df.loc[0, 'cast']"
      ],
      "execution_count": 25,
      "outputs": [
        {
          "output_type": "execute_result",
          "data": {
            "text/plain": [
              "[{'cast_id': 4,\n",
              "  'character': 'Lou',\n",
              "  'credit_id': '52fe4ee7c3a36847f82afae7',\n",
              "  'gender': 2,\n",
              "  'id': 52997,\n",
              "  'name': 'Rob Corddry',\n",
              "  'order': 0,\n",
              "  'profile_path': '/k2zJL0V1nEZuFT08xUdOd3ucfXz.jpg'},\n",
              " {'cast_id': 5,\n",
              "  'character': 'Nick',\n",
              "  'credit_id': '52fe4ee7c3a36847f82afaeb',\n",
              "  'gender': 2,\n",
              "  'id': 64342,\n",
              "  'name': 'Craig Robinson',\n",
              "  'order': 1,\n",
              "  'profile_path': '/tVaRMkJXOEVhYxtnnFuhqW0Rjzz.jpg'},\n",
              " {'cast_id': 6,\n",
              "  'character': 'Jacob',\n",
              "  'credit_id': '52fe4ee7c3a36847f82afaef',\n",
              "  'gender': 2,\n",
              "  'id': 54729,\n",
              "  'name': 'Clark Duke',\n",
              "  'order': 2,\n",
              "  'profile_path': '/oNzK0umwm5Wn0wyEbOy6TVJCSBn.jpg'},\n",
              " {'cast_id': 7,\n",
              "  'character': 'Adam Jr.',\n",
              "  'credit_id': '52fe4ee7c3a36847f82afaf3',\n",
              "  'gender': 2,\n",
              "  'id': 36801,\n",
              "  'name': 'Adam Scott',\n",
              "  'order': 3,\n",
              "  'profile_path': '/5gb65xz8bzd42yjMAl4zwo4cvKw.jpg'},\n",
              " {'cast_id': 8,\n",
              "  'character': 'Hot Tub Repairman',\n",
              "  'credit_id': '52fe4ee7c3a36847f82afaf7',\n",
              "  'gender': 2,\n",
              "  'id': 54812,\n",
              "  'name': 'Chevy Chase',\n",
              "  'order': 4,\n",
              "  'profile_path': '/svjpyYtPwtjvRxX9IZnOmOkhDOt.jpg'},\n",
              " {'cast_id': 9,\n",
              "  'character': 'Jill',\n",
              "  'credit_id': '52fe4ee7c3a36847f82afafb',\n",
              "  'gender': 1,\n",
              "  'id': 94098,\n",
              "  'name': 'Gillian Jacobs',\n",
              "  'order': 5,\n",
              "  'profile_path': '/rBnhe5vhNPnhRUdtYahBWx90fJM.jpg'},\n",
              " {'cast_id': 10,\n",
              "  'character': 'Sophie',\n",
              "  'credit_id': '52fe4ee7c3a36847f82afaff',\n",
              "  'gender': 1,\n",
              "  'id': 1159009,\n",
              "  'name': 'Bianca Haase',\n",
              "  'order': 6,\n",
              "  'profile_path': '/4x3nbtD8q8phAJPmoGWXPvz0iM.jpg'},\n",
              " {'cast_id': 11,\n",
              "  'character': 'Kelly',\n",
              "  'credit_id': '5524ec51c3a3687df3000dbb',\n",
              "  'gender': 1,\n",
              "  'id': 86624,\n",
              "  'name': 'Collette Wolfe',\n",
              "  'order': 7,\n",
              "  'profile_path': '/aSD4h5379b2eEw3bLou9ByLimmq.jpg'},\n",
              " {'cast_id': 13,\n",
              "  'character': 'Brad',\n",
              "  'credit_id': '5524ec8ec3a3687ded000d72',\n",
              "  'gender': 2,\n",
              "  'id': 466505,\n",
              "  'name': 'Kumail Nanjiani',\n",
              "  'order': 9,\n",
              "  'profile_path': '/x4nAztHY72SVciRfxEsbhIVTsIu.jpg'},\n",
              " {'cast_id': 14,\n",
              "  'character': 'Courtney',\n",
              "  'credit_id': '5524ec9bc3a3687df8000d13',\n",
              "  'gender': 1,\n",
              "  'id': 70776,\n",
              "  'name': 'Kellee Stewart',\n",
              "  'order': 10,\n",
              "  'profile_path': '/w3xmsEPmJc1Cf0dQ4aIn8YmlHbk.jpg'},\n",
              " {'cast_id': 15,\n",
              "  'character': 'Terry',\n",
              "  'credit_id': '5524eca892514171cb008237',\n",
              "  'gender': 2,\n",
              "  'id': 347335,\n",
              "  'name': 'Josh Heald',\n",
              "  'order': 11,\n",
              "  'profile_path': '/pwXJIenrDMrG7t3zNfLvr8w1RGU.jpg'},\n",
              " {'cast_id': 16,\n",
              "  'character': 'Susan',\n",
              "  'credit_id': '5524ecb7925141720c001116',\n",
              "  'gender': 0,\n",
              "  'id': 1451392,\n",
              "  'name': 'Gretchen Koerner',\n",
              "  'order': 12,\n",
              "  'profile_path': '/muULPexCTJGyJba4yKzxronpD50.jpg'},\n",
              " {'cast_id': 17,\n",
              "  'character': 'Herself',\n",
              "  'credit_id': '5524ecc3c3a3687ded000d74',\n",
              "  'gender': 1,\n",
              "  'id': 98879,\n",
              "  'name': 'Lisa Loeb',\n",
              "  'order': 13,\n",
              "  'profile_path': '/bGqg58ca0bZR38z9HliUMmeNGE.jpg'},\n",
              " {'cast_id': 18,\n",
              "  'character': 'Herself',\n",
              "  'credit_id': '5524ecd3c3a3687e11000ed3',\n",
              "  'gender': 1,\n",
              "  'id': 1394648,\n",
              "  'name': 'Jessica Williams',\n",
              "  'order': 14,\n",
              "  'profile_path': '/A4syKjkcYB92wLEhH0c0hC3BCpz.jpg'},\n",
              " {'cast_id': 19,\n",
              "  'character': 'Himself',\n",
              "  'credit_id': '5524ece6925141718d001009',\n",
              "  'gender': 0,\n",
              "  'id': 1451393,\n",
              "  'name': 'Bruce Buffer',\n",
              "  'order': 15,\n",
              "  'profile_path': None},\n",
              " {'cast_id': 20,\n",
              "  'character': 'Shot Girl',\n",
              "  'credit_id': '5524ecf5c3a3687e08000dc2',\n",
              "  'gender': 0,\n",
              "  'id': 1451394,\n",
              "  'name': 'Mariana Paola Vicente',\n",
              "  'order': 16,\n",
              "  'profile_path': '/ckPllza8624UHWGHCbLShkLxCD1.jpg'},\n",
              " {'cast_id': 33,\n",
              "  'character': 'Choozy Doozy Host',\n",
              "  'credit_id': '555844da9251412afe0013a9',\n",
              "  'gender': 2,\n",
              "  'id': 2224,\n",
              "  'name': 'Christian Slater',\n",
              "  'order': 17,\n",
              "  'profile_path': '/3ElLWjnvchMS6Q4cIQOK8QNAoMG.jpg'},\n",
              " {'cast_id': 35,\n",
              "  'character': 'Gary Winkle',\n",
              "  'credit_id': '55872027c3a3683853005074',\n",
              "  'gender': 0,\n",
              "  'id': 185805,\n",
              "  'name': 'Jason Jones',\n",
              "  'order': 18,\n",
              "  'profile_path': '/aIoCw6vo8AGMdsQRAI5g2t0yJT3.jpg'},\n",
              " {'cast_id': 36,\n",
              "  'character': 'Bridesmaid',\n",
              "  'credit_id': '55efe971c3a368090c00cd1b',\n",
              "  'gender': 0,\n",
              "  'id': 1507448,\n",
              "  'name': 'Olivia Jordan',\n",
              "  'order': 19,\n",
              "  'profile_path': '/szMukAEiIDeasel0lvyaeyKuych.jpg'},\n",
              " {'cast_id': 37,\n",
              "  'character': 'Christine',\n",
              "  'credit_id': '55efe980c3a36871bf008176',\n",
              "  'gender': 1,\n",
              "  'id': 1334091,\n",
              "  'name': 'Christine Bently',\n",
              "  'order': 20,\n",
              "  'profile_path': '/oUZltnGa55OXE52hfyPTfCshuNy.jpg'},\n",
              " {'cast_id': 38,\n",
              "  'character': 'Excited Girl',\n",
              "  'credit_id': '55efe98e9251413e3201d316',\n",
              "  'gender': 0,\n",
              "  'id': 557803,\n",
              "  'name': 'Stacey Asaro',\n",
              "  'order': 21,\n",
              "  'profile_path': '/qTPdlr1dXf3kNdyHuDsgtGC0HCC.jpg'},\n",
              " {'cast_id': 64,\n",
              "  'character': 'Adam (uncredited)',\n",
              "  'credit_id': '58f2135ac3a3682e95008b91',\n",
              "  'gender': 2,\n",
              "  'id': 3036,\n",
              "  'name': 'John Cusack',\n",
              "  'order': 22,\n",
              "  'profile_path': '/uKydQYuZ9TnCzvbQLtj6j98vWAT.jpg'},\n",
              " {'cast_id': 65,\n",
              "  'character': 'J-Bird',\n",
              "  'credit_id': '59ac0240c3a3682cc802c399',\n",
              "  'gender': 2,\n",
              "  'id': 59256,\n",
              "  'name': 'Adam Herschman',\n",
              "  'order': 23,\n",
              "  'profile_path': '/wZMwiuX1DslF6hDS50z9OTN6z1X.jpg'},\n",
              " {'cast_id': 66,\n",
              "  'character': 'Bridesmaid',\n",
              "  'credit_id': '59ac02cd925141079d02b1b4',\n",
              "  'gender': 1,\n",
              "  'id': 129714,\n",
              "  'name': 'Kisha Sierra',\n",
              "  'order': 24,\n",
              "  'profile_path': None}]"
            ]
          },
          "metadata": {},
          "execution_count": 25
        }
      ]
    },
    {
      "cell_type": "code",
      "metadata": {
        "id": "PgHqe2XEaSav"
      },
      "source": [
        "# Now we will see how we can apply above function on 'genres' column\n",
        "imdb_df.loc[~imdb_df['crew'].isna(), 'crew'] = imdb_df.loc[~imdb_df['crew'].isna(), 'crew'].apply(convert_string_to_list)"
      ],
      "execution_count": 26,
      "outputs": []
    },
    {
      "cell_type": "code",
      "metadata": {
        "colab": {
          "base_uri": "https://localhost:8080/"
        },
        "id": "Hb0x-mCZaYtV",
        "outputId": "a0422b84-8614-43c6-fbcf-96ae196f1564"
      },
      "source": [
        "# Let's check that crew change from string to list or not\n",
        "imdb_df.loc[0, 'crew']"
      ],
      "execution_count": 27,
      "outputs": [
        {
          "output_type": "execute_result",
          "data": {
            "text/plain": [
              "[{'credit_id': '59ac067c92514107af02c8c8',\n",
              "  'department': 'Directing',\n",
              "  'gender': 0,\n",
              "  'id': 1449071,\n",
              "  'job': 'First Assistant Director',\n",
              "  'name': 'Kelly Cantley',\n",
              "  'profile_path': None},\n",
              " {'credit_id': '52fe4ee7c3a36847f82afad7',\n",
              "  'department': 'Directing',\n",
              "  'gender': 2,\n",
              "  'id': 3227,\n",
              "  'job': 'Director',\n",
              "  'name': 'Steve Pink',\n",
              "  'profile_path': '/myHOgo8mQSCiCAZNGMRdHVr03jr.jpg'},\n",
              " {'credit_id': '5524ed25c3a3687ded000d88',\n",
              "  'department': 'Writing',\n",
              "  'gender': 2,\n",
              "  'id': 347335,\n",
              "  'job': 'Writer',\n",
              "  'name': 'Josh Heald',\n",
              "  'profile_path': '/pwXJIenrDMrG7t3zNfLvr8w1RGU.jpg'},\n",
              " {'credit_id': '5524ed2d925141720c001128',\n",
              "  'department': 'Writing',\n",
              "  'gender': 2,\n",
              "  'id': 347335,\n",
              "  'job': 'Characters',\n",
              "  'name': 'Josh Heald',\n",
              "  'profile_path': '/pwXJIenrDMrG7t3zNfLvr8w1RGU.jpg'},\n",
              " {'credit_id': '5524ed3d92514166c1004a5d',\n",
              "  'department': 'Production',\n",
              "  'gender': 2,\n",
              "  'id': 57822,\n",
              "  'job': 'Producer',\n",
              "  'name': 'Andrew Panay',\n",
              "  'profile_path': None},\n",
              " {'credit_id': '5524ed4bc3a3687df3000dd2',\n",
              "  'department': 'Production',\n",
              "  'gender': 0,\n",
              "  'id': 1451395,\n",
              "  'job': 'Associate Producer',\n",
              "  'name': 'Adam Blum',\n",
              "  'profile_path': None},\n",
              " {'credit_id': '5524ed5a925141720c00112c',\n",
              "  'department': 'Production',\n",
              "  'gender': 2,\n",
              "  'id': 52997,\n",
              "  'job': 'Executive Producer',\n",
              "  'name': 'Rob Corddry',\n",
              "  'profile_path': '/k2zJL0V1nEZuFT08xUdOd3ucfXz.jpg'},\n",
              " {'credit_id': '5524ed85c3a3687e0e000f56',\n",
              "  'department': 'Production',\n",
              "  'gender': 0,\n",
              "  'id': 62807,\n",
              "  'job': 'Executive Producer',\n",
              "  'name': 'Ben Ormand',\n",
              "  'profile_path': None},\n",
              " {'credit_id': '5524ed9fc3a3687e0e000f59',\n",
              "  'department': 'Sound',\n",
              "  'gender': 2,\n",
              "  'id': 23486,\n",
              "  'job': 'Original Music Composer',\n",
              "  'name': 'Christophe Beck',\n",
              "  'profile_path': '/2fnJUmCk6IEpVIptpYaUk31epHx.jpg'},\n",
              " {'credit_id': '5524eda6c3a3687e03000d28',\n",
              "  'department': 'Camera',\n",
              "  'gender': 2,\n",
              "  'id': 6117,\n",
              "  'job': 'Director of Photography',\n",
              "  'name': 'Declan Quinn',\n",
              "  'profile_path': None},\n",
              " {'credit_id': '5524edb4925141720c00113d',\n",
              "  'department': 'Editing',\n",
              "  'gender': 0,\n",
              "  'id': 1451396,\n",
              "  'job': 'Editor',\n",
              "  'name': 'Jamie Gross',\n",
              "  'profile_path': None},\n",
              " {'credit_id': '5524edc1925141727600102e',\n",
              "  'department': 'Production',\n",
              "  'gender': 0,\n",
              "  'id': 22219,\n",
              "  'job': 'Casting',\n",
              "  'name': 'Susie Farris',\n",
              "  'profile_path': None},\n",
              " {'credit_id': '5524edd192514171cb008257',\n",
              "  'department': 'Art',\n",
              "  'gender': 0,\n",
              "  'id': 1002643,\n",
              "  'job': 'Production Design',\n",
              "  'name': 'Ryan Berg',\n",
              "  'profile_path': None},\n",
              " {'credit_id': '555ad9be9251411e5b00d485',\n",
              "  'department': 'Production',\n",
              "  'gender': 2,\n",
              "  'id': 57431,\n",
              "  'job': 'Executive Producer',\n",
              "  'name': 'Matt Moore',\n",
              "  'profile_path': None},\n",
              " {'credit_id': '5677e93bc3a36816890087dc',\n",
              "  'department': 'Directing',\n",
              "  'gender': 0,\n",
              "  'id': 1551818,\n",
              "  'job': 'Script Supervisor',\n",
              "  'name': 'Nicole Garcea',\n",
              "  'profile_path': None},\n",
              " {'credit_id': '5677e96a92514179e10093d0',\n",
              "  'department': 'Production',\n",
              "  'gender': 0,\n",
              "  'id': 1551819,\n",
              "  'job': 'Production Coordinator',\n",
              "  'name': 'Jason Salzman',\n",
              "  'profile_path': None},\n",
              " {'credit_id': '5677e98492514179d2008cd9',\n",
              "  'department': 'Costume & Make-Up',\n",
              "  'gender': 0,\n",
              "  'id': 1422996,\n",
              "  'job': 'Costume Design',\n",
              "  'name': 'Carol Cutshall',\n",
              "  'profile_path': None},\n",
              " {'credit_id': '5677e9d5c3a368168e009414',\n",
              "  'department': 'Art',\n",
              "  'gender': 2,\n",
              "  'id': 500199,\n",
              "  'job': 'Set Decoration',\n",
              "  'name': 'Tim Cohn',\n",
              "  'profile_path': None},\n",
              " {'credit_id': '5677f89d9251417845001a61',\n",
              "  'department': 'Costume & Make-Up',\n",
              "  'gender': 0,\n",
              "  'id': 1527917,\n",
              "  'job': 'Hair Department Head',\n",
              "  'name': 'Voni Hinkle',\n",
              "  'profile_path': None},\n",
              " {'credit_id': '5677f8b392514179dd0089fb',\n",
              "  'department': 'Costume & Make-Up',\n",
              "  'gender': 0,\n",
              "  'id': 1431554,\n",
              "  'job': 'Makeup Department Head',\n",
              "  'name': 'Remi Savva',\n",
              "  'profile_path': None},\n",
              " {'credit_id': '5677f8d1c3a3681689008a4b',\n",
              "  'department': 'Art',\n",
              "  'gender': 0,\n",
              "  'id': 66495,\n",
              "  'job': 'Art Direction',\n",
              "  'name': 'Jason Baldwin Stewart',\n",
              "  'profile_path': None},\n",
              " {'credit_id': '5677f8eec3a3681685008dd5',\n",
              "  'department': 'Production',\n",
              "  'gender': 0,\n",
              "  'id': 1412466,\n",
              "  'job': 'Production Supervisor',\n",
              "  'name': 'Korey Budd',\n",
              "  'profile_path': None},\n",
              " {'credit_id': '5677f90a9251417845001a7d',\n",
              "  'department': 'Sound',\n",
              "  'gender': 0,\n",
              "  'id': 1401562,\n",
              "  'job': 'Sound Re-Recording Mixer',\n",
              "  'name': 'Gary C. Bourgeois',\n",
              "  'profile_path': None},\n",
              " {'credit_id': '5677f91e9251417845001a84',\n",
              "  'department': 'Sound',\n",
              "  'gender': 0,\n",
              "  'id': 1396794,\n",
              "  'job': 'Sound Re-Recording Mixer',\n",
              "  'name': 'Gabriel J. Serrano',\n",
              "  'profile_path': None},\n",
              " {'credit_id': '5677f938c3a3681680008dd4',\n",
              "  'department': 'Editing',\n",
              "  'gender': 0,\n",
              "  'id': 13168,\n",
              "  'job': 'Dialogue Editor',\n",
              "  'name': 'Victoria Rose Sampson',\n",
              "  'profile_path': None},\n",
              " {'credit_id': '5677f94e92514179dd008a1f',\n",
              "  'department': 'Sound',\n",
              "  'gender': 0,\n",
              "  'id': 1551839,\n",
              "  'job': 'Production Sound Mixer',\n",
              "  'name': 'Michael B. Koff',\n",
              "  'profile_path': None},\n",
              " {'credit_id': '5677f968c3a368168e009698',\n",
              "  'department': 'Sound',\n",
              "  'gender': 0,\n",
              "  'id': 113052,\n",
              "  'job': 'Sound Effects Editor',\n",
              "  'name': 'Randall Guth',\n",
              "  'profile_path': None},\n",
              " {'credit_id': '5677f98dc3a3681685008e02',\n",
              "  'department': 'Crew',\n",
              "  'gender': 2,\n",
              "  'id': 1442535,\n",
              "  'job': 'Stunt Coordinator',\n",
              "  'name': 'Chuck Picerni Jr.',\n",
              "  'profile_path': '/yE5QtXUzcrnCzMRctZL8F5g842B.jpg'},\n",
              " {'credit_id': '5677f9a692514179dd008a49',\n",
              "  'department': 'Camera',\n",
              "  'gender': 0,\n",
              "  'id': 1437305,\n",
              "  'job': 'Camera Operator',\n",
              "  'name': 'Michael Applebaum',\n",
              "  'profile_path': None},\n",
              " {'credit_id': '5677f9bd9251417845001aae',\n",
              "  'department': 'Camera',\n",
              "  'gender': 0,\n",
              "  'id': 1401765,\n",
              "  'job': 'Still Photographer',\n",
              "  'name': 'Steve Dietl',\n",
              "  'profile_path': None},\n",
              " {'credit_id': '5677f9e592514179e7008bf7',\n",
              "  'department': 'Lighting',\n",
              "  'gender': 0,\n",
              "  'id': 1402721,\n",
              "  'job': 'Rigging Gaffer',\n",
              "  'name': 'Tarik Naim Alherimi',\n",
              "  'profile_path': None},\n",
              " {'credit_id': '5677f9f4c3a368167c0090ed',\n",
              "  'department': 'Lighting',\n",
              "  'gender': 0,\n",
              "  'id': 1402719,\n",
              "  'job': 'Gaffer',\n",
              "  'name': 'Paul Olinde',\n",
              "  'profile_path': None},\n",
              " {'credit_id': '5677fa21c3a368168e0096ca',\n",
              "  'department': 'Sound',\n",
              "  'gender': 0,\n",
              "  'id': 1551840,\n",
              "  'job': 'Music Supervisor',\n",
              "  'name': 'Steve Griffen',\n",
              "  'profile_path': None},\n",
              " {'credit_id': '5677fa31c3a3681680008e04',\n",
              "  'department': 'Sound',\n",
              "  'gender': 0,\n",
              "  'id': 1551841,\n",
              "  'job': 'Music Editor',\n",
              "  'name': 'Matt Fausak',\n",
              "  'profile_path': None},\n",
              " {'credit_id': '5677fa4392514179dd008a76',\n",
              "  'department': 'Sound',\n",
              "  'gender': 0,\n",
              "  'id': 1551840,\n",
              "  'job': 'Music Editor',\n",
              "  'name': 'Steve Griffen',\n",
              "  'profile_path': None},\n",
              " {'credit_id': '5677fa609251417845001acf',\n",
              "  'department': 'Costume & Make-Up',\n",
              "  'gender': 0,\n",
              "  'id': 1403416,\n",
              "  'job': 'Costume Supervisor',\n",
              "  'name': 'Shonta T. McCray',\n",
              "  'profile_path': None},\n",
              " {'credit_id': '5677fa8492514179d2008fb3',\n",
              "  'department': 'Camera',\n",
              "  'gender': 0,\n",
              "  'id': 1425831,\n",
              "  'job': 'Steadicam Operator',\n",
              "  'name': 'Mark Karavite',\n",
              "  'profile_path': None},\n",
              " {'credit_id': '5677fab2c3a3681689008ac3',\n",
              "  'department': 'Camera',\n",
              "  'gender': 0,\n",
              "  'id': 1551842,\n",
              "  'job': 'First Assistant Camera',\n",
              "  'name': 'Joe Waistell',\n",
              "  'profile_path': None},\n",
              " {'credit_id': '5677faecc3a368168e0096fe',\n",
              "  'department': 'Sound',\n",
              "  'gender': 0,\n",
              "  'id': 58362,\n",
              "  'job': 'Supervising Sound Editor',\n",
              "  'name': 'Michael Hilkene',\n",
              "  'profile_path': None},\n",
              " {'credit_id': '59ac0368c3a3682c0a02c484',\n",
              "  'department': 'Crew',\n",
              "  'gender': 0,\n",
              "  'id': 1881584,\n",
              "  'job': 'Additional Writing',\n",
              "  'name': 'John Karnay',\n",
              "  'profile_path': None},\n",
              " {'credit_id': '59ac0411c3a3682bf0028966',\n",
              "  'department': 'Costume & Make-Up',\n",
              "  'gender': 0,\n",
              "  'id': 1431552,\n",
              "  'job': 'Hairstylist',\n",
              "  'name': 'Daina Daigle',\n",
              "  'profile_path': None},\n",
              " {'credit_id': '59ac0504925141072302b8fb',\n",
              "  'department': 'Costume & Make-Up',\n",
              "  'gender': 0,\n",
              "  'id': 1712001,\n",
              "  'job': 'Makeup Artist',\n",
              "  'name': 'Allison Gordin',\n",
              "  'profile_path': None},\n",
              " {'credit_id': '59ac0570c3a3682bf0028aac',\n",
              "  'department': 'Costume & Make-Up',\n",
              "  'gender': 0,\n",
              "  'id': 578725,\n",
              "  'job': 'Makeup Artist',\n",
              "  'name': 'Darryl Lucas',\n",
              "  'profile_path': None},\n",
              " {'credit_id': '59ac05a4925141077e02c97e',\n",
              "  'department': 'Costume & Make-Up',\n",
              "  'gender': 0,\n",
              "  'id': 1463274,\n",
              "  'job': 'Makeup Artist',\n",
              "  'name': 'Annabelle MacNeal',\n",
              "  'profile_path': None},\n",
              " {'credit_id': '59ac05c6925141076502d106',\n",
              "  'department': 'Costume & Make-Up',\n",
              "  'gender': 0,\n",
              "  'id': 1881586,\n",
              "  'job': 'Makeup Artist',\n",
              "  'name': 'Marina Savva',\n",
              "  'profile_path': None},\n",
              " {'credit_id': '59ac0615c3a3682c480296aa',\n",
              "  'department': 'Costume & Make-Up',\n",
              "  'gender': 0,\n",
              "  'id': 1406267,\n",
              "  'job': 'Hairstylist',\n",
              "  'name': 'Carl G. Variste',\n",
              "  'profile_path': None},\n",
              " {'credit_id': '59ac06ba925141076502d1fa',\n",
              "  'department': 'Directing',\n",
              "  'gender': 0,\n",
              "  'id': 1798593,\n",
              "  'job': 'First Assistant Director',\n",
              "  'name': 'Josh King',\n",
              "  'profile_path': None},\n",
              " {'credit_id': '59ac06f1c3a3682c2202aca0',\n",
              "  'department': 'Art',\n",
              "  'gender': 0,\n",
              "  'id': 1415083,\n",
              "  'job': 'Greensman',\n",
              "  'name': 'Scott C. Bivona',\n",
              "  'profile_path': None},\n",
              " {'credit_id': '59ac072c925141076502d260',\n",
              "  'department': 'Art',\n",
              "  'gender': 0,\n",
              "  'id': 1881587,\n",
              "  'job': 'Title Designer',\n",
              "  'name': 'Eunha Choi',\n",
              "  'profile_path': None},\n",
              " {'credit_id': '59ac077c925141077e02cb62',\n",
              "  'department': 'Art',\n",
              "  'gender': 0,\n",
              "  'id': 1585302,\n",
              "  'job': 'Construction Coordinator',\n",
              "  'name': 'Daniel Coe',\n",
              "  'profile_path': None},\n",
              " {'credit_id': '59ac07e0925141078a02d842',\n",
              "  'department': 'Art',\n",
              "  'gender': 0,\n",
              "  'id': 1495523,\n",
              "  'job': 'Set Designer',\n",
              "  'name': 'Spencer Davison',\n",
              "  'profile_path': None},\n",
              " {'credit_id': '59ac0862925141072f02cf6f',\n",
              "  'department': 'Art',\n",
              "  'gender': 0,\n",
              "  'id': 1881589,\n",
              "  'job': 'Painter',\n",
              "  'name': 'Sonia L. Garcia',\n",
              "  'profile_path': None},\n",
              " {'credit_id': '59ac08e0c3a3682bf0028e51',\n",
              "  'department': 'Art',\n",
              "  'gender': 0,\n",
              "  'id': 1424896,\n",
              "  'job': 'Art Department Coordinator',\n",
              "  'name': 'Caleb Guillotte',\n",
              "  'profile_path': None},\n",
              " {'credit_id': '59ac0920c3a3682c2202af36',\n",
              "  'department': 'Art',\n",
              "  'gender': 0,\n",
              "  'id': 1393375,\n",
              "  'job': 'Leadman',\n",
              "  'name': \"Pat A. O'Connor\",\n",
              "  'profile_path': None},\n",
              " {'credit_id': '59ac095592514107af02cc39',\n",
              "  'department': 'Art',\n",
              "  'gender': 0,\n",
              "  'id': 1881592,\n",
              "  'job': 'Set Designer',\n",
              "  'name': 'Brendan Turrill',\n",
              "  'profile_path': None},\n",
              " {'credit_id': '59ac0989925141072302bdfa',\n",
              "  'department': 'Art',\n",
              "  'gender': 2,\n",
              "  'id': 76497,\n",
              "  'job': 'Property Master',\n",
              "  'name': 'Brook Yeaton',\n",
              "  'profile_path': None},\n",
              " {'credit_id': '59ac0a2cc3a3682c9c02add1',\n",
              "  'department': 'Sound',\n",
              "  'gender': 0,\n",
              "  'id': 1881596,\n",
              "  'job': 'Boom Operator',\n",
              "  'name': 'Matthew Armstrong',\n",
              "  'profile_path': None},\n",
              " {'credit_id': '59ac0aa8925141072f02d282',\n",
              "  'department': 'Visual Effects',\n",
              "  'gender': 2,\n",
              "  'id': 1558086,\n",
              "  'job': 'Special Effects Supervisor',\n",
              "  'name': 'Matt Kutcher',\n",
              "  'profile_path': None},\n",
              " {'credit_id': '59ac0b2ac3a3682c2202b192',\n",
              "  'department': 'Crew',\n",
              "  'gender': 2,\n",
              "  'id': 1558087,\n",
              "  'job': 'Special Effects Coordinator',\n",
              "  'name': 'Eric Roberts',\n",
              "  'profile_path': None},\n",
              " {'credit_id': '59ac0b7ac3a3682c2202b1fb',\n",
              "  'department': 'Visual Effects',\n",
              "  'gender': 0,\n",
              "  'id': 1392098,\n",
              "  'job': 'Visual Effects Supervisor',\n",
              "  'name': 'Rocco Passionino',\n",
              "  'profile_path': None},\n",
              " {'credit_id': '59ac0bbe925141077e02d0c4',\n",
              "  'department': 'Visual Effects',\n",
              "  'gender': 0,\n",
              "  'id': 1558716,\n",
              "  'job': 'Visual Effects Coordinator',\n",
              "  'name': 'Joseph Payo',\n",
              "  'profile_path': None},\n",
              " {'credit_id': '59ac0bf2c3a3682cc802cefa',\n",
              "  'department': 'Visual Effects',\n",
              "  'gender': 0,\n",
              "  'id': 1408784,\n",
              "  'job': 'Visual Effects Producer',\n",
              "  'name': 'Chris Roff',\n",
              "  'profile_path': None},\n",
              " {'credit_id': '59ac0c51c3a3682c48029d99',\n",
              "  'department': 'Lighting',\n",
              "  'gender': 0,\n",
              "  'id': 1881600,\n",
              "  'job': 'Best Boy Electric',\n",
              "  'name': 'Ulyan Atamanyuk',\n",
              "  'profile_path': None},\n",
              " {'credit_id': '59ac0cbac3a3682c0a02cff6',\n",
              "  'department': 'Camera',\n",
              "  'gender': 0,\n",
              "  'id': 1881602,\n",
              "  'job': 'Key Grip',\n",
              "  'name': 'Chris Ekstrom',\n",
              "  'profile_path': None},\n",
              " {'credit_id': '59ac0d54925141072f02d5e6',\n",
              "  'department': 'Lighting',\n",
              "  'gender': 0,\n",
              "  'id': 1484984,\n",
              "  'job': 'Best Boy Electric',\n",
              "  'name': 'Brad Garris',\n",
              "  'profile_path': None},\n",
              " {'credit_id': '59ac0db0925141078a02df86',\n",
              "  'department': 'Camera',\n",
              "  'gender': 0,\n",
              "  'id': 1881603,\n",
              "  'job': 'Dolly Grip',\n",
              "  'name': 'Kendell Joseph',\n",
              "  'profile_path': None},\n",
              " {'credit_id': '59ac0e5a925141077e02d39f',\n",
              "  'department': 'Camera',\n",
              "  'gender': 0,\n",
              "  'id': 1549179,\n",
              "  'job': 'Dolly Grip',\n",
              "  'name': 'Spencer Wilcox',\n",
              "  'profile_path': None},\n",
              " {'credit_id': '59ac0e9f925141079d02bee6',\n",
              "  'department': 'Costume & Make-Up',\n",
              "  'gender': 0,\n",
              "  'id': 1552626,\n",
              "  'job': 'Key Costumer',\n",
              "  'name': 'Sarah P. Koeppe',\n",
              "  'profile_path': None},\n",
              " {'credit_id': '59ac0ec1c3a3682bf0029524',\n",
              "  'department': 'Costume & Make-Up',\n",
              "  'gender': 0,\n",
              "  'id': 1881605,\n",
              "  'job': 'Seamstress',\n",
              "  'name': 'Catherine Rodi',\n",
              "  'profile_path': None},\n",
              " {'credit_id': '59ac0eef925141070702c7ff',\n",
              "  'department': 'Costume & Make-Up',\n",
              "  'gender': 0,\n",
              "  'id': 1463801,\n",
              "  'job': 'Seamstress',\n",
              "  'name': 'Giselle Spence',\n",
              "  'profile_path': None},\n",
              " {'credit_id': '59ac0f5dc3a3682c4802a0f5',\n",
              "  'department': 'Production',\n",
              "  'gender': 0,\n",
              "  'id': 1400837,\n",
              "  'job': 'Location Manager',\n",
              "  'name': 'John A. Johnston',\n",
              "  'profile_path': None},\n",
              " {'credit_id': '59ac0ff2c3a3682c4802a196',\n",
              "  'department': 'Crew',\n",
              "  'gender': 0,\n",
              "  'id': 1844322,\n",
              "  'job': 'Production Controller',\n",
              "  'name': 'Gail Marks',\n",
              "  'profile_path': None}]"
            ]
          },
          "metadata": {},
          "execution_count": 27
        }
      ]
    },
    {
      "cell_type": "markdown",
      "metadata": {
        "id": "A1zIstQttmmB"
      },
      "source": [
        "## So, now when once make this transformation  next store this information properly in another dataframe.."
      ]
    },
    {
      "cell_type": "code",
      "metadata": {
        "id": "J1BrzL9tuALY"
      },
      "source": [
        "# Create a copy of the imdb_df\n",
        "\n",
        "imdb_df_new = imdb_df.copy()"
      ],
      "execution_count": 28,
      "outputs": []
    },
    {
      "cell_type": "markdown",
      "metadata": {
        "id": "Y9ggtwBQuPko"
      },
      "source": [
        "## So, now we created copy now we use a particularly 'imdb_df_new' dataframes for the questions assigned for the analysis."
      ]
    },
    {
      "cell_type": "markdown",
      "metadata": {
        "id": "VVC3Gtbju4op"
      },
      "source": [
        ""
      ]
    }
  ]
}